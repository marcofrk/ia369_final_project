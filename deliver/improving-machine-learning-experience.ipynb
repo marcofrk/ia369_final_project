{
 "cells": [
  {
   "cell_type": "markdown",
   "metadata": {},
   "source": [
    "# Improving Machine Learning Experience With GStreamer Techniques\n",
    "Marco A. Franchi\n",
    "\n",
    "## *Abstract*\n",
    "\n",
    "*It has being very common face machine learning algorithms at the multimedia area: traffic count; people count; real-time vigilance cameras; baggage treaker; face/expression recognition; and so on. However, it is perceptive the gap between machine learning and multimedia solutions, where even at simple embedded sistems it is possible to reach 4k videos running at 60 frames per second, whereas the best neural network solution is able to handle 224x224 frames at 300 milliseconds in the same embedded system. Due to this, a vast number of solutions were developed: dedicated hardware for inference process; models manipulation; accelerated pre-processing image solutions; and videos manupalation techniques. This paper is based at the study of these videos manipulation techniques, exposing the most common algorithmics, such as frame-skip, frame-droop, resizing, color convert, and overlay solutions; and preseting the benneficies and issues of the adoption or not of those techniques.*\n",
    "\n",
    "\n",
    "\n",
    "## Introduction\n",
    "\n",
    "Aiming to diminish the gap between machine learning inference process time and the multimedia capability, which reachs 4k@60fps, some video manipulation solutions was purposed. Among them, the most common are the overlay solutions, which are able to create alpha layers over the video and insert information on it. These overlays are very common on object detections, once are responsible for drawing a square, select or color an object at the scene. The most common overlays are SVG, Cairo and OpenCV.\n",
    "As the overlays, it is important to use a great video framework able to handle all the elements involved at the inference and display solutions. One of the best and most usage one is the GStreamer framework. GStreamer is able to handle plugins in pipelines, which is perfect to do some tests very quickly.\n",
    "Appart from the video solutions, it is important to choose the best machine learning algorithmics as well. With focus on object detection, the most common and valueted ones are Single Shot Detection (SSD) and Tensorflow. Both as a incridible inference process capability, and the TFlite version demonstrated a great tool for embedded systems.\n",
    "Thus, with all the tools available, this paper intends to compare the combination of theses algorithmics for object detection solutions. This comparison aims to demonstrate how we can increase the video frame rate with simple approaches and demonstrate the best scenarios to handle each neural network algorithmics and the overlays plugins behavior on these tests."
   ]
  },
  {
   "cell_type": "markdown",
   "metadata": {},
   "source": [
    "## Materials and Methods\n",
    "\n",
    "This section describes the material such as the video files, models and programming language used, and adopted methodology.\n",
    "\n",
    "### Programming Language\n",
    "\n"
   ]
  },
  {
   "cell_type": "markdown",
   "metadata": {},
   "source": [
    "This paper uses Python 3 language and all the required support for the overlays, GStreamer, Tensorflow and SSD. These tools will be described in details on this section.\n",
    "As first test, it will uses opencv to open a video based file in a indepent new window."
   ]
  },
  {
   "cell_type": "code",
   "execution_count": 6,
   "metadata": {},
   "outputs": [],
   "source": [
    "import cv2 as opencv"
   ]
  },
  {
   "cell_type": "code",
   "execution_count": 9,
   "metadata": {},
   "outputs": [],
   "source": [
    "window=\"Video test\"\n",
    "opencv.namedWindow(window)\n",
    "file=\"../figures/video_device.mp4\"\n",
    "cap=opencv.VideoCapture(file)\n",
    "    \n",
    "while (cap.isOpened()):\n",
    "    ret,frame=cap.read()\n",
    "        \n",
    "    if ret:\n",
    "        opencv.imshow(window,frame)\n",
    "        if opencv.waitKey(133)==27:\n",
    "            break\n",
    "    else :\n",
    "        break\n",
    "            \n",
    "opencv.destroyAllWindows()\n",
    "cap.release()"
   ]
  },
  {
   "cell_type": "markdown",
   "metadata": {},
   "source": [
    "## Results\n",
    "\n",
    "The following results."
   ]
  },
  {
   "cell_type": "markdown",
   "metadata": {},
   "source": [
    "## Conclusion\n",
    "\n",
    "This is the conclusion:"
   ]
  },
  {
   "cell_type": "markdown",
   "metadata": {},
   "source": [
    "## Source\n",
    "\n",
    "Hwang, C. & Yoon, K., 1981. Multiple Attributes Decision Making Methods and Applications. Berlin: Springer-Verlag."
   ]
  }
 ],
 "metadata": {
  "cite2c": {
   "citations": {
    "6853877/6JUXZA65": {
     "DOI": "10.1162/106365600568202",
     "URL": "https://www.mitpressjournals.org/doi/10.1162/106365600568202",
     "abstract": "In this paper, we provide a systematic comparison of various evolutionary approaches to multiobjective optimization using six carefully chosen test functions. Each test function involves a particular feature that is known to cause difficulty in the evolutionary optimization process, mainly in converging to the Pareto-optimal front (e.g., multimodality and deception). By investigating these different problem features separately, it is possible to predict the kind of problems to which a certain technique is or is not well suited. However, in contrast to what was suspected beforehand, the experimental results indicate a hierarchy of the algorithms under consideration. Furthermore, the emerging effects are evidence that the suggested test functions provide sufficient complexity to compare multiobjective optimizers. Finally, elitism is shown to be an important factor for improving evolutionary multiobjective search.",
     "accessed": {
      "day": 16,
      "month": 4,
      "year": 2019
     },
     "author": [
      {
       "family": "Zitzler",
       "given": "Eckart"
      },
      {
       "family": "Deb",
       "given": "Kalyanmoy"
      },
      {
       "family": "Thiele",
       "given": "Lothar"
      }
     ],
     "container-title": "Evolutionary Computation",
     "container-title-short": "Evolutionary Computation",
     "id": "6853877/6JUXZA65",
     "issue": "2",
     "issued": {
      "day": 1,
      "month": 6,
      "year": 2000
     },
     "journalAbbreviation": "Evolutionary Computation",
     "page": "173-195",
     "page-first": "173",
     "shortTitle": "Comparison of Multiobjective Evolutionary Algorithms",
     "title": "Comparison of Multiobjective Evolutionary Algorithms: Empirical Results",
     "title-short": "Comparison of Multiobjective Evolutionary Algorithms",
     "type": "article-journal",
     "volume": "8"
    }
   }
  },
  "kernelspec": {
   "display_name": "Python 3",
   "language": "python",
   "name": "python3"
  },
  "language_info": {
   "codemirror_mode": {
    "name": "ipython",
    "version": 3
   },
   "file_extension": ".py",
   "mimetype": "text/x-python",
   "name": "python",
   "nbconvert_exporter": "python",
   "pygments_lexer": "ipython3",
   "version": "3.6.9"
  }
 },
 "nbformat": 4,
 "nbformat_minor": 2
}
